{
  "nbformat": 4,
  "nbformat_minor": 0,
  "metadata": {
    "colab": {
      "name": "Editing_videos.ipynb",
      "provenance": [],
      "collapsed_sections": [],
      "mount_file_id": "1radaV70rhdKkzEDvUFG4KejNH7yUOxR6",
      "authorship_tag": "ABX9TyMizOYKSm7fSe9LsDoIDu3m",
      "include_colab_link": true
    },
    "kernelspec": {
      "name": "python3",
      "display_name": "Python 3"
    },
    "language_info": {
      "name": "python"
    }
  },
  "cells": [
    {
      "cell_type": "markdown",
      "metadata": {
        "id": "view-in-github",
        "colab_type": "text"
      },
      "source": [
        "<a href=\"https://colab.research.google.com/github/shaon638/IIIT-Internship_code/blob/main/Editing_videos.ipynb\" target=\"_parent\"><img src=\"https://colab.research.google.com/assets/colab-badge.svg\" alt=\"Open In Colab\"/></a>"
      ]
    },
    {
      "cell_type": "markdown",
      "source": [
        "## import important libraries"
      ],
      "metadata": {
        "id": "qF31yKt-coYz"
      }
    },
    {
      "cell_type": "code",
      "execution_count": 1,
      "metadata": {
        "id": "47HMFnGucOqs"
      },
      "outputs": [],
      "source": [
        "import cv2\n",
        "import math\n",
        "import os\n",
        "import librosa\n",
        "import soundfile as sf\n",
        "import subprocess\n",
        "import platform"
      ]
    },
    {
      "cell_type": "markdown",
      "source": [
        ""
      ],
      "metadata": {
        "id": "73xk-lSchW6j"
      }
    },
    {
      "cell_type": "markdown",
      "source": [
        "## get the frame rate,width,height of the video"
      ],
      "metadata": {
        "id": "MmriA9QOdoGh"
      }
    },
    {
      "cell_type": "code",
      "source": [
        "def getFps(video_read):\n",
        "  fps = video_read.get(cv2.CAP_PROP_FPS)\n",
        "  frame_width = video_read.get(cv2.CAP_PROP_FRAME_WIDTH)\n",
        "  frame_height = video_read.get(cv2.CAP_PROP_FRAME_HEIGHT)\n",
        "  total_Frame_Number = int(video_read.get(cv2.CAP_PROP_FRAME_COUNT))\n",
        "  return fps, frame_width, frame_height, total_Frame_Number\n"
      ],
      "metadata": {
        "id": "lJe20hy7dKm7"
      },
      "execution_count": 2,
      "outputs": []
    },
    {
      "cell_type": "markdown",
      "source": [
        "## Get the exact frame number of a video with respect to given time"
      ],
      "metadata": {
        "id": "42EHJ-Uckg3m"
      }
    },
    {
      "cell_type": "code",
      "source": [
        "def getFrameNumber(fps, milisecond):\n",
        "  frame_number = math.floor((fps/1000)*milisecond)\n",
        "  return frame_number  \n",
        "\n",
        "  "
      ],
      "metadata": {
        "id": "w9-IcJj0grER"
      },
      "execution_count": 3,
      "outputs": []
    },
    {
      "cell_type": "markdown",
      "source": [
        "## Convert the time stamp into milisecond"
      ],
      "metadata": {
        "id": "5cuHqhWWtsXs"
      }
    },
    {
      "cell_type": "code",
      "source": [
        "def minutes2mili(tm):\n",
        "  tm_split = tm.split('|')\n",
        "  tm_mili =(int(tm_split[0])*60000)+(int(tm_split[1])*1000)+int(tm_split[2])\n",
        "  return tm_mili"
      ],
      "metadata": {
        "id": "X0uw_ItUtrXc"
      },
      "execution_count": 4,
      "outputs": []
    },
    {
      "cell_type": "markdown",
      "source": [
        "## Function gives all the frames during a perticular given time duration"
      ],
      "metadata": {
        "id": "J0hTxFS7Ou2d"
      }
    },
    {
      "cell_type": "code",
      "source": [
        "def getFrame(video_path,first_time_instant, second_time_instant,path_file):\n",
        "  basename = os.path.basename(video_path)\n",
        "  basename = basename.split('.')\n",
        "  file_name = basename[0]+'_'+'trimmed'+'.'+basename[1]\n",
        "  print(file_name)\n",
        "  dirname = path_file\n",
        "  count =0\n",
        "  frame_list = []\n",
        "  first_time_mili = minutes2mili(first_time_instant)\n",
        "  second_time_mili = minutes2mili(second_time_instant)\n",
        "  video_cap = cv2.VideoCapture(video_path)\n",
        "\n",
        "  fps, w, h, f_num = getFps(video_cap)\n",
        "  total_length_video = (f_num/fps)*1000\n",
        "  if(first_time_mili < 0):\n",
        "    print(\"Sorry time stamp is invalid!!\")\n",
        "    return -1\n",
        "  elif (second_time_mili > total_length_video):\n",
        "    print(\"Sorry time stamp exceeded from the actual video's time stamp !!!\")\n",
        "    print(\"total timestamp of your video in sec is : \", total_length_video/1000)\n",
        "    return -1\n",
        "  else:\n",
        "      starting_frame = getFrameNumber(fps,first_time_mili)\n",
        "      ending_frame = getFrameNumber(fps, second_time_mili)\n",
        "      while(video_cap.isOpened()):\n",
        "        success, frame = video_cap.read()\n",
        "        count += 1\n",
        "\n",
        "        if count >= starting_frame and count <= ending_frame:\n",
        "          frame_list.append(frame)\n",
        "          if count == ending_frame:\n",
        "            break\n",
        "\n",
        "\n",
        "  videoFile = createVideo(frame_list, fps,int(w),int(h), file_name,dirname)\n",
        "  return videoFile\n"
      ],
      "metadata": {
        "id": "rhTrZmodOt0h"
      },
      "execution_count": 5,
      "outputs": []
    },
    {
      "cell_type": "markdown",
      "source": [
        "## Function returns all the cropped frame"
      ],
      "metadata": {
        "id": "n4LBHJaWQGED"
      }
    },
    {
      "cell_type": "code",
      "source": [
        "def getCropFrame(video_path,a,b,c,d,path_file):\n",
        "  basename = os.path.basename(video_path)\n",
        "  basename = basename.split('.')\n",
        "  file_name = basename[0]+'_'+'cropped'+'.'+basename[1]\n",
        "  dirname = path_file\n",
        "  video_cap = cv2.VideoCapture(video_path)\n",
        "  \n",
        "  list_frame = []\n",
        "  count =0\n",
        "  fps, w, h, f_num = getFps(video_cap)\n",
        "  \n",
        "  if (a<0 or b<0):\n",
        "    print(\"invalid x1 or y1 coordinate!!\")\n",
        "    print(\"please put the write coordinate\")\n",
        "    return -1\n",
        "  elif(c>w):\n",
        "    print(\"width of the frame is exceeded!!\")\n",
        "    print(\"the weidth frame limit will be maximum: \",w)\n",
        "    return -1\n",
        "\n",
        "  elif(d>h):\n",
        "    print(\"Height of the frame is exceeded!!!\")\n",
        "    print(\"the height of the frame limit will be maximum: \",h)\n",
        "    return -1\n",
        "\n",
        "  elif(a>c):\n",
        "    print(\"Sorry invalid coordinate!!\")\n",
        "    return -1\n",
        "\n",
        "  elif(b>d):\n",
        "    print(\"Sorry invalid coordinate!!\")\n",
        "    return -1\n",
        "  else:\n",
        "    while(video_cap.isOpened()):\n",
        "      success, frame = video_cap.read()\n",
        "      count += 1\n",
        "      cropped_frame = frame[int(b):int(d) , int(a):int(c)]\n",
        "      list_frame.append(cropped_frame)\n",
        "    \n",
        "      if f_num == count:\n",
        "        break\n",
        "  height = list_frame[0].shape[0]\n",
        "  weidth = list_frame[0].shape[1]\n",
        "  videoFile = createVideo(list_frame, fps,weidth, height,file_name, dirname)\n",
        "  return videoFile\n"
      ],
      "metadata": {
        "id": "z467oSv4QD_h"
      },
      "execution_count": 6,
      "outputs": []
    },
    {
      "cell_type": "markdown",
      "source": [
        "## Function for create a video for given \n",
        "#1.frames\n",
        "#2.fps\n",
        "#3.weigth\n",
        "#4.height \n",
        "#5.basename of a file and dirname of a file"
      ],
      "metadata": {
        "id": "CQ8JWquRrj4q"
      }
    },
    {
      "cell_type": "code",
      "source": [
        "def createVideo(list_of_frame, fps, w, h,basename_file,folder_des):\n",
        "    fourcc = cv2.VideoWriter_fourcc('m','p','4','v')\n",
        "    saved_file = folder_des+'/'+basename_file\n",
        "    writer = cv2.VideoWriter(saved_file, fourcc, fps, (w, h))\n",
        "    \n",
        "    for i in range (len(list_of_frame)):\n",
        "      writer.write(list_of_frame[i])\n",
        "  \n",
        "    writer.release()\n",
        "    return saved_file\n",
        "\n",
        "\n",
        "\n"
      ],
      "metadata": {
        "id": "TB_zN2_L8S13"
      },
      "execution_count": 7,
      "outputs": []
    },
    {
      "cell_type": "markdown",
      "source": [
        "## Function for resizing the frame"
      ],
      "metadata": {
        "id": "pUXqbfryi_U7"
      }
    },
    {
      "cell_type": "code",
      "source": [
        "def getFrameResize(video_path,weight, height,path_file):\n",
        "  basename = os.path.basename(video_path)\n",
        "  basename = basename.split('.')\n",
        "  file_name = basename[0]+'_'+'resized'+'.'+basename[1]\n",
        "  dirname = path_file\n",
        "  video_cap = cv2.VideoCapture(video_path)\n",
        "  list_frame = []\n",
        "  count= 0\n",
        "  fps, w, h, f_num = getFps(video_cap)\n",
        "\n",
        "  if(weight <=0 or height <=0):\n",
        "\n",
        "    print('weidth or height are invalid!!!')\n",
        "    return -1\n",
        "  else:\n",
        "    while(video_cap.isOpened()):\n",
        "      success, frame = video_cap.read()\n",
        "      count += 1\n",
        "  \n",
        "      res_frame = cv2.resize(frame, (weight, height), interpolation = cv2.INTER_LINEAR)\n",
        "      list_frame.append(res_frame)\n",
        "   \n",
        "      \n",
        "      if count == f_num:\n",
        "        break\n",
        "  videofile = createVideo(list_frame, fps, weight, height,file_name,dirname)\n",
        "  return videofile  \n",
        "\n",
        "\n"
      ],
      "metadata": {
        "id": "p8Sx7dmauDgM"
      },
      "execution_count": 8,
      "outputs": []
    },
    {
      "cell_type": "markdown",
      "source": [
        "## Function for resizing the frame maintainig the aspect ration"
      ],
      "metadata": {
        "id": "Ra0yighbjEEN"
      }
    },
    {
      "cell_type": "code",
      "source": [
        "def getFrameAspect(video_path, weight,path_file):\n",
        "  basename = os.path.basename(video_path)\n",
        "  basename = basename.split('.')\n",
        "  file_name = basename[0]+'_'+'resized'+'.'+basename[1]\n",
        "  dirname = path_file\n",
        "  video_cap = cv2.VideoCapture(video_path)\n",
        "  fps, w, h, f_num = getFps(video_cap)\n",
        "  height = weight\n",
        "  lst_fr = []\n",
        "  count = 0\n",
        "  if weight == 0:\n",
        "    print(\"invalid weidth!!!\")\n",
        "    return -1\n",
        "  else:\n",
        "\n",
        "    while (video_cap.isOpened()):\n",
        "      success, frame = video_cap.read()\n",
        "      count += 1\n",
        "      res_frame  =cv2.resize(frame, (weight, height))\n",
        "      lst_fr.append(res_frame)\n",
        "\n",
        "      if count == f_num:\n",
        "        break\n",
        "  video_file = createVideo(lst_fr, weight, height, file_name,dirname)\n",
        "  return video_file"
      ],
      "metadata": {
        "id": "N5TnMjWw2yNn"
      },
      "execution_count": 9,
      "outputs": []
    },
    {
      "cell_type": "markdown",
      "source": [
        "## Get the sample number of audio"
      ],
      "metadata": {
        "id": "Dwfwk3ni1QfH"
      }
    },
    {
      "cell_type": "code",
      "source": [
        "def getAudioSampleNum(time, sf):\n",
        "  milisecond = minutes2mili(time)\n",
        "  sample_num = math.floor((sf/1000)*milisecond)\n",
        "  return sample_num\n"
      ],
      "metadata": {
        "id": "xRRJMydqvCa-"
      },
      "execution_count": 10,
      "outputs": []
    },
    {
      "cell_type": "markdown",
      "source": [
        "## Function for trim the audio given time duration"
      ],
      "metadata": {
        "id": "RK_Akeof1WEe"
      }
    },
    {
      "cell_type": "code",
      "source": [
        "def trimAudio(video_path, starting_time, ending_time,dirname):\n",
        "  basename = os.path.basename(video_path)\n",
        "  basename = basename.split('.')\n",
        "  file_name = basename[0]+'_'+'trimmed'+'.'+'wav'\n",
        "  path_name = dirname\n",
        "  audio, sr = librosa.load(video_path, 16000)\n",
        "  sample_start = getAudioSampleNum(starting_time,sr)\n",
        "  sample_end = getAudioSampleNum(ending_time,sr)\n",
        "  trimmed_audio = audio[sample_start: sample_end]\n",
        "  audioFile = writeAudio(file_name, trimmed_audio, sr, path_name)\n",
        "  return audioFile"
      ],
      "metadata": {
        "id": "xEi1qnvkxAPC"
      },
      "execution_count": 11,
      "outputs": []
    },
    {
      "cell_type": "markdown",
      "source": [
        "## Function for write the audio"
      ],
      "metadata": {
        "id": "iw2pXLKj1cMx"
      }
    },
    {
      "cell_type": "code",
      "source": [
        "def writeAudio(basename,audio, sr,folder_des):\n",
        "  saved_file = folder_des+'/'+basename\n",
        "  sf.write(saved_file,audio, sr)\n",
        "  return saved_file"
      ],
      "metadata": {
        "id": "05hufbehxGsN"
      },
      "execution_count": 12,
      "outputs": []
    },
    {
      "cell_type": "markdown",
      "source": [
        "## merge audio with video"
      ],
      "metadata": {
        "id": "Erp10F9Ewg_B"
      }
    },
    {
      "cell_type": "code",
      "source": [
        "def audioMergevideo(video, audio, saved_file):\n",
        "  basename = os.path.basename(video)\n",
        "  basename = basename.split('.')\n",
        "  final_video = saved_file + '/'+basename[0]+'Merged'+'.'+basename[1]\n",
        "  command = 'ffmpeg -y -i {} -i {} -strict -2 -q:v 1 {}'.format(audio, video, final_video)\n",
        "  subprocess.call(command, shell=platform.system() != 'Windows')\n",
        "\n"
      ],
      "metadata": {
        "id": "jhEm6FPbwgIv"
      },
      "execution_count": 13,
      "outputs": []
    },
    {
      "cell_type": "markdown",
      "source": [
        "## Function for extract audio from the video"
      ],
      "metadata": {
        "id": "UdFw7V5aJWaj"
      }
    },
    {
      "cell_type": "code",
      "source": [
        "def getAudio(video_path, path_audio):\n",
        "  video_path_base = os.path.basename(video_path)\n",
        "  video_path_dir = os.path.dirname(video_path)\n",
        "  basename = video_path_base.split('.')\n",
        "  path_audio =video_path_dir+'/'+ basename[0]+'.'+'wav'\n",
        "  # print(path_audio)\n",
        "  \n",
        "  subprocess.call(['ffmpeg','-i' ,video_path, path_audio])\n",
        "  return path_audio\n"
      ],
      "metadata": {
        "id": "xYlXSHTUJVQT"
      },
      "execution_count": 14,
      "outputs": []
    },
    {
      "cell_type": "markdown",
      "source": [
        "## User main code\n"
      ],
      "metadata": {
        "id": "ekpPv10zjJwF"
      }
    },
    {
      "cell_type": "code",
      "source": [
        "while(True):\n",
        "    print(\"---------------------------------\")\n",
        "    print('1.Trim the video\\n''2.crop the video\\n''3.Resize_Frame\\n''4.Exit\\n')\n",
        "    opt = int(input('enter the option'))\n",
        "    if(opt == 1):\n",
        "      video = input('enter the path of the video')\n",
        "      while(True):\n",
        "        print(\"enter the timestamp as a manner like.... 'minute|second|milisecond\\n'please give the all three values\\n\",'otherwise you can put 0')\n",
        "        time_stamp_first = input('enter start_time:')\n",
        "        time_stamp_second = input('enter end_time:')\n",
        "        print('processing.....')\n",
        "        \n",
        "        path = input('please give the file path where you want to store the new video')\n",
        "        res_1 = getFrame(video, time_stamp_first, time_stamp_second,path)\n",
        "        if(res_1 == -1):\n",
        "          print('please enter again from the begining')\n",
        "          continue\n",
        "        else:\n",
        "          audi_file =trimAudio(video, time_stamp_first, time_stamp_second, path)\n",
        "          print('finished........')\n",
        "          print('video saved.. and audio save.....')\n",
        "          print('now merging audio and video......')\n",
        "          audioMergevideo(res_1, audi_file,path)\n",
        "          print('finished......')\n",
        "          break\n",
        "    elif(opt == 2):\n",
        "      video = input('enter the path of the video')\n",
        "      while(True):\n",
        "        x1= int(input('enter the x1 coordinate:'))\n",
        "        y1 =int(input('enter the y1 coordinate:'))\n",
        "        x2 = int(input('enter the x2 coordinate:'))\n",
        "        y2 = int(input('enter the y2 coordinate:'))\n",
        "        print('processing....')\n",
        "        path = input('please give the file path where you want to store the new video')\n",
        "        res = getCropFrame(video, x1, y1, x2, y2, path)\n",
        "        if (res ==-1):\n",
        "          print(\"please enter again from the begining\")\n",
        "          continue\n",
        "        else:\n",
        "          print(res)\n",
        "          audio_file = getAudio(res,path)\n",
        "          print('video and audio saved.....')\n",
        "          print('now merging...')\n",
        "          audioMergevideo(res, audio_file,path)\n",
        "          print('finished.....')\n",
        "          break\n",
        "    elif(opt == 3):\n",
        "      video = input('enter the path of the video')\n",
        "      print('1.with out maintaining the aspect ratio\\n''2.maintaining the aspect ration\\n')\n",
        "      press = int(input('enter the option'))\n",
        "      while True:\n",
        "        if press == 1:\n",
        "          w_vid = int(input('enter the weight'))\n",
        "          h_vid = int(input('enter the height'))\n",
        "          print('processing....')\n",
        "          path = input('please give the file path where you want to store the new video')\n",
        "          res_2 = getFrameResize(video, w_vid, h_vid, path)\n",
        "          if res_2 == -1:\n",
        "            print('please enter again from the begining')\n",
        "            continue\n",
        "          else:\n",
        "            audio_file = getAudio(res_2,path)\n",
        "            print('video and audio saved....')\n",
        "            audioMergevideo(res_2, audio_file,path)\n",
        "            print(\"finished...\")\n",
        "            break\n",
        "        if press == 2:\n",
        "          w_vid = int(input('enter the weidth'))\n",
        "          print('processing....')\n",
        "          path = input('please give the file path where you want to store the new video')\n",
        "          res_3 = getFrameAspect(video, w_vid, path)\n",
        "          if res_3 == -1:\n",
        "            print('please enter again from the begining')\n",
        "            continue\n",
        "          else:\n",
        "            audio_file = getAudio(res_3,path)\n",
        "            print('video and audio saved....')\n",
        "            audioMergevideo(res_3, audio_file,path)\n",
        "            print(\"finished...\")\n",
        "            break\n",
        "\n",
        "    elif(opt == 4):\n",
        "      print('Thank you for using this application')\n",
        "      break\n",
        "\n"
      ],
      "metadata": {
        "id": "qS7NKJbOQlCd",
        "colab": {
          "base_uri": "https://localhost:8080/",
          "height": 696
        },
        "outputId": "1407fc2c-5cd0-479c-b91c-69f5415b91d4"
      },
      "execution_count": 15,
      "outputs": [
        {
          "output_type": "stream",
          "name": "stdout",
          "text": [
            "---------------------------------\n",
            "1.Trim the video\n",
            "2.crop the video\n",
            "3.Resize_Frame\n",
            "4.Exit\n",
            "\n"
          ]
        },
        {
          "output_type": "error",
          "ename": "KeyboardInterrupt",
          "evalue": "ignored",
          "traceback": [
            "\u001b[0;31m---------------------------------------------------------------------------\u001b[0m",
            "\u001b[0;31mKeyboardInterrupt\u001b[0m                         Traceback (most recent call last)",
            "\u001b[0;32m/usr/local/lib/python3.7/dist-packages/ipykernel/kernelbase.py\u001b[0m in \u001b[0;36m_input_request\u001b[0;34m(self, prompt, ident, parent, password)\u001b[0m\n\u001b[1;32m    728\u001b[0m             \u001b[0;32mtry\u001b[0m\u001b[0;34m:\u001b[0m\u001b[0;34m\u001b[0m\u001b[0;34m\u001b[0m\u001b[0m\n\u001b[0;32m--> 729\u001b[0;31m                 \u001b[0mident\u001b[0m\u001b[0;34m,\u001b[0m \u001b[0mreply\u001b[0m \u001b[0;34m=\u001b[0m \u001b[0mself\u001b[0m\u001b[0;34m.\u001b[0m\u001b[0msession\u001b[0m\u001b[0;34m.\u001b[0m\u001b[0mrecv\u001b[0m\u001b[0;34m(\u001b[0m\u001b[0mself\u001b[0m\u001b[0;34m.\u001b[0m\u001b[0mstdin_socket\u001b[0m\u001b[0;34m,\u001b[0m \u001b[0;36m0\u001b[0m\u001b[0;34m)\u001b[0m\u001b[0;34m\u001b[0m\u001b[0;34m\u001b[0m\u001b[0m\n\u001b[0m\u001b[1;32m    730\u001b[0m             \u001b[0;32mexcept\u001b[0m \u001b[0mException\u001b[0m\u001b[0;34m:\u001b[0m\u001b[0;34m\u001b[0m\u001b[0;34m\u001b[0m\u001b[0m\n",
            "\u001b[0;32m/usr/local/lib/python3.7/dist-packages/jupyter_client/session.py\u001b[0m in \u001b[0;36mrecv\u001b[0;34m(self, socket, mode, content, copy)\u001b[0m\n\u001b[1;32m    802\u001b[0m         \u001b[0;32mtry\u001b[0m\u001b[0;34m:\u001b[0m\u001b[0;34m\u001b[0m\u001b[0;34m\u001b[0m\u001b[0m\n\u001b[0;32m--> 803\u001b[0;31m             \u001b[0mmsg_list\u001b[0m \u001b[0;34m=\u001b[0m \u001b[0msocket\u001b[0m\u001b[0;34m.\u001b[0m\u001b[0mrecv_multipart\u001b[0m\u001b[0;34m(\u001b[0m\u001b[0mmode\u001b[0m\u001b[0;34m,\u001b[0m \u001b[0mcopy\u001b[0m\u001b[0;34m=\u001b[0m\u001b[0mcopy\u001b[0m\u001b[0;34m)\u001b[0m\u001b[0;34m\u001b[0m\u001b[0;34m\u001b[0m\u001b[0m\n\u001b[0m\u001b[1;32m    804\u001b[0m         \u001b[0;32mexcept\u001b[0m \u001b[0mzmq\u001b[0m\u001b[0;34m.\u001b[0m\u001b[0mZMQError\u001b[0m \u001b[0;32mas\u001b[0m \u001b[0me\u001b[0m\u001b[0;34m:\u001b[0m\u001b[0;34m\u001b[0m\u001b[0;34m\u001b[0m\u001b[0m\n",
            "\u001b[0;32m/usr/local/lib/python3.7/dist-packages/zmq/sugar/socket.py\u001b[0m in \u001b[0;36mrecv_multipart\u001b[0;34m(self, flags, copy, track)\u001b[0m\n\u001b[1;32m    726\u001b[0m         \"\"\"\n\u001b[0;32m--> 727\u001b[0;31m         \u001b[0mparts\u001b[0m \u001b[0;34m=\u001b[0m \u001b[0;34m[\u001b[0m\u001b[0mself\u001b[0m\u001b[0;34m.\u001b[0m\u001b[0mrecv\u001b[0m\u001b[0;34m(\u001b[0m\u001b[0mflags\u001b[0m\u001b[0;34m,\u001b[0m \u001b[0mcopy\u001b[0m\u001b[0;34m=\u001b[0m\u001b[0mcopy\u001b[0m\u001b[0;34m,\u001b[0m \u001b[0mtrack\u001b[0m\u001b[0;34m=\u001b[0m\u001b[0mtrack\u001b[0m\u001b[0;34m)\u001b[0m\u001b[0;34m]\u001b[0m\u001b[0;34m\u001b[0m\u001b[0;34m\u001b[0m\u001b[0m\n\u001b[0m\u001b[1;32m    728\u001b[0m         \u001b[0;31m# have first part already, only loop while more to receive\u001b[0m\u001b[0;34m\u001b[0m\u001b[0;34m\u001b[0m\u001b[0;34m\u001b[0m\u001b[0m\n",
            "\u001b[0;32mzmq/backend/cython/socket.pyx\u001b[0m in \u001b[0;36mzmq.backend.cython.socket.Socket.recv\u001b[0;34m()\u001b[0m\n",
            "\u001b[0;32mzmq/backend/cython/socket.pyx\u001b[0m in \u001b[0;36mzmq.backend.cython.socket.Socket.recv\u001b[0;34m()\u001b[0m\n",
            "\u001b[0;32mzmq/backend/cython/socket.pyx\u001b[0m in \u001b[0;36mzmq.backend.cython.socket._recv_copy\u001b[0;34m()\u001b[0m\n",
            "\u001b[0;32m/usr/local/lib/python3.7/dist-packages/zmq/backend/cython/checkrc.pxd\u001b[0m in \u001b[0;36mzmq.backend.cython.checkrc._check_rc\u001b[0;34m()\u001b[0m\n",
            "\u001b[0;31mKeyboardInterrupt\u001b[0m: ",
            "\nDuring handling of the above exception, another exception occurred:\n",
            "\u001b[0;31mKeyboardInterrupt\u001b[0m                         Traceback (most recent call last)",
            "\u001b[0;32m<ipython-input-15-f21d0598ed00>\u001b[0m in \u001b[0;36m<module>\u001b[0;34m()\u001b[0m\n\u001b[1;32m      2\u001b[0m     \u001b[0mprint\u001b[0m\u001b[0;34m(\u001b[0m\u001b[0;34m\"---------------------------------\"\u001b[0m\u001b[0;34m)\u001b[0m\u001b[0;34m\u001b[0m\u001b[0;34m\u001b[0m\u001b[0m\n\u001b[1;32m      3\u001b[0m     \u001b[0mprint\u001b[0m\u001b[0;34m(\u001b[0m\u001b[0;34m'1.Trim the video\\n'\u001b[0m\u001b[0;34m'2.crop the video\\n'\u001b[0m\u001b[0;34m'3.Resize_Frame\\n'\u001b[0m\u001b[0;34m'4.Exit\\n'\u001b[0m\u001b[0;34m)\u001b[0m\u001b[0;34m\u001b[0m\u001b[0;34m\u001b[0m\u001b[0m\n\u001b[0;32m----> 4\u001b[0;31m     \u001b[0mopt\u001b[0m \u001b[0;34m=\u001b[0m \u001b[0mint\u001b[0m\u001b[0;34m(\u001b[0m\u001b[0minput\u001b[0m\u001b[0;34m(\u001b[0m\u001b[0;34m'enter the option'\u001b[0m\u001b[0;34m)\u001b[0m\u001b[0;34m)\u001b[0m\u001b[0;34m\u001b[0m\u001b[0;34m\u001b[0m\u001b[0m\n\u001b[0m\u001b[1;32m      5\u001b[0m     \u001b[0;32mif\u001b[0m\u001b[0;34m(\u001b[0m\u001b[0mopt\u001b[0m \u001b[0;34m==\u001b[0m \u001b[0;36m1\u001b[0m\u001b[0;34m)\u001b[0m\u001b[0;34m:\u001b[0m\u001b[0;34m\u001b[0m\u001b[0;34m\u001b[0m\u001b[0m\n\u001b[1;32m      6\u001b[0m       \u001b[0mvideo\u001b[0m \u001b[0;34m=\u001b[0m \u001b[0minput\u001b[0m\u001b[0;34m(\u001b[0m\u001b[0;34m'enter the path of the video'\u001b[0m\u001b[0;34m)\u001b[0m\u001b[0;34m\u001b[0m\u001b[0;34m\u001b[0m\u001b[0m\n",
            "\u001b[0;32m/usr/local/lib/python3.7/dist-packages/ipykernel/kernelbase.py\u001b[0m in \u001b[0;36mraw_input\u001b[0;34m(self, prompt)\u001b[0m\n\u001b[1;32m    702\u001b[0m             \u001b[0mself\u001b[0m\u001b[0;34m.\u001b[0m\u001b[0m_parent_ident\u001b[0m\u001b[0;34m,\u001b[0m\u001b[0;34m\u001b[0m\u001b[0;34m\u001b[0m\u001b[0m\n\u001b[1;32m    703\u001b[0m             \u001b[0mself\u001b[0m\u001b[0;34m.\u001b[0m\u001b[0m_parent_header\u001b[0m\u001b[0;34m,\u001b[0m\u001b[0;34m\u001b[0m\u001b[0;34m\u001b[0m\u001b[0m\n\u001b[0;32m--> 704\u001b[0;31m             \u001b[0mpassword\u001b[0m\u001b[0;34m=\u001b[0m\u001b[0;32mFalse\u001b[0m\u001b[0;34m,\u001b[0m\u001b[0;34m\u001b[0m\u001b[0;34m\u001b[0m\u001b[0m\n\u001b[0m\u001b[1;32m    705\u001b[0m         )\n\u001b[1;32m    706\u001b[0m \u001b[0;34m\u001b[0m\u001b[0m\n",
            "\u001b[0;32m/usr/local/lib/python3.7/dist-packages/ipykernel/kernelbase.py\u001b[0m in \u001b[0;36m_input_request\u001b[0;34m(self, prompt, ident, parent, password)\u001b[0m\n\u001b[1;32m    732\u001b[0m             \u001b[0;32mexcept\u001b[0m \u001b[0mKeyboardInterrupt\u001b[0m\u001b[0;34m:\u001b[0m\u001b[0;34m\u001b[0m\u001b[0;34m\u001b[0m\u001b[0m\n\u001b[1;32m    733\u001b[0m                 \u001b[0;31m# re-raise KeyboardInterrupt, to truncate traceback\u001b[0m\u001b[0;34m\u001b[0m\u001b[0;34m\u001b[0m\u001b[0;34m\u001b[0m\u001b[0m\n\u001b[0;32m--> 734\u001b[0;31m                 \u001b[0;32mraise\u001b[0m \u001b[0mKeyboardInterrupt\u001b[0m\u001b[0;34m\u001b[0m\u001b[0;34m\u001b[0m\u001b[0m\n\u001b[0m\u001b[1;32m    735\u001b[0m             \u001b[0;32melse\u001b[0m\u001b[0;34m:\u001b[0m\u001b[0;34m\u001b[0m\u001b[0;34m\u001b[0m\u001b[0m\n\u001b[1;32m    736\u001b[0m                 \u001b[0;32mbreak\u001b[0m\u001b[0;34m\u001b[0m\u001b[0;34m\u001b[0m\u001b[0m\n",
            "\u001b[0;31mKeyboardInterrupt\u001b[0m: "
          ]
        }
      ]
    }
  ]
}